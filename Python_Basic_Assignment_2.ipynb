{
 "cells": [
  {
   "cell_type": "raw",
   "id": "45a209ea",
   "metadata": {},
   "source": [
    "Q1). What are the two values of the Boolean data type? How do you write them?\n",
    "\n",
    "Ans) True and False are the two values of the Boolean data type.\n"
   ]
  },
  {
   "cell_type": "code",
   "execution_count": 7,
   "id": "c35fadd8",
   "metadata": {},
   "outputs": [
    {
     "data": {
      "text/plain": [
       "2"
      ]
     },
     "execution_count": 7,
     "metadata": {},
     "output_type": "execute_result"
    }
   ],
   "source": [
    "# Ans continue of Q1\n",
    "True + True"
   ]
  },
  {
   "cell_type": "code",
   "execution_count": 8,
   "id": "5f6d381f",
   "metadata": {},
   "outputs": [
    {
     "data": {
      "text/plain": [
       "1"
      ]
     },
     "execution_count": 8,
     "metadata": {},
     "output_type": "execute_result"
    }
   ],
   "source": [
    "True + False"
   ]
  },
  {
   "cell_type": "code",
   "execution_count": 9,
   "id": "9dd5e750",
   "metadata": {},
   "outputs": [
    {
     "data": {
      "text/plain": [
       "0"
      ]
     },
     "execution_count": 9,
     "metadata": {},
     "output_type": "execute_result"
    }
   ],
   "source": [
    "False + False"
   ]
  },
  {
   "cell_type": "code",
   "execution_count": 10,
   "id": "2197a2e3",
   "metadata": {},
   "outputs": [
    {
     "data": {
      "text/plain": [
       "-1"
      ]
     },
     "execution_count": 10,
     "metadata": {},
     "output_type": "execute_result"
    }
   ],
   "source": [
    "False - True"
   ]
  },
  {
   "cell_type": "raw",
   "id": "497f3c92",
   "metadata": {},
   "source": [
    "Q2). What are the three different types of Boolean operators?\n",
    "\n",
    "Ans) The three different types of Boolean operators are: AND, OR, and NOT"
   ]
  },
  {
   "cell_type": "raw",
   "id": "99373fb9",
   "metadata": {},
   "source": [
    "Q3). Make a list of each Boolean operator's truth tables (i.e. every possible combination of Boolean\n",
    "values for the operator and what it evaluate ).\n",
    "\n",
    "Ans)\n",
    "AND GATE:\n",
    "\n",
    "A\tB\tQ\n",
    "0\t0\t0\n",
    "0\t1\t0\n",
    "1\t0\t0\n",
    "1\t1\t1\n",
    "\n",
    "OR GATE :\n",
    "A\tB\tQ\n",
    "0\t0\t0\n",
    "0\t1\t1\n",
    "1\t0\t1\n",
    "1\t1\t1\n",
    "\n",
    "NOT GATE:\n",
    "A\tQ\n",
    "0\t1\n",
    "1\t0\n",
    "\n",
    "NAND GATE:\n",
    "A\tB\tQ\n",
    "0\t0\t1\n",
    "0\t1\t1\n",
    "1\t0\t1\n",
    "1\t1\t0\n",
    "\n",
    "NOR GATE:\n",
    "A\tB\tQ\n",
    "0\t0\t1\n",
    "0\t1\t0\n",
    "1\t0\t0\n",
    "1\t1\t0\n",
    "\n",
    "EX-OR :\n",
    "A\tB\tQ\n",
    "0\t0\t0\n",
    "0\t1\t1\n",
    "1\t0\t1\n",
    "1\t1\t0\n",
    "\n",
    "EX-NOR GATE:\n",
    "A\tB\tQ\n",
    "0\t0\t1\n",
    "0\t1\t0\n",
    "1\t0\t0\n",
    "1\t1\t1\n"
   ]
  },
  {
   "cell_type": "raw",
   "id": "8de2b043",
   "metadata": {},
   "source": [
    "Q4). What are the values of the following expressions?\n",
    "\n",
    "(5 > 4) and (3 == 5)\n",
    "not (5 > 4)\n",
    "(5 > 4) or (3 == 5)\n",
    "not ((5> 4) or (3 == 5))\n",
    "(True and True) and (True == False)\n",
    "(not False) or (not True)\n",
    "\n",
    "Ans) \n",
    "\n"
   ]
  },
  {
   "cell_type": "code",
   "execution_count": 14,
   "id": "29470577",
   "metadata": {},
   "outputs": [
    {
     "data": {
      "text/plain": [
       "False"
      ]
     },
     "execution_count": 14,
     "metadata": {},
     "output_type": "execute_result"
    }
   ],
   "source": [
    "(5 > 4) and (3 == 5)"
   ]
  },
  {
   "cell_type": "code",
   "execution_count": 15,
   "id": "f8c8339f",
   "metadata": {},
   "outputs": [
    {
     "data": {
      "text/plain": [
       "True"
      ]
     },
     "execution_count": 15,
     "metadata": {},
     "output_type": "execute_result"
    }
   ],
   "source": [
    "(5 > 4) or (3 == 5)"
   ]
  },
  {
   "cell_type": "code",
   "execution_count": 17,
   "id": "0df6a8b6",
   "metadata": {},
   "outputs": [
    {
     "data": {
      "text/plain": [
       "True"
      ]
     },
     "execution_count": 17,
     "metadata": {},
     "output_type": "execute_result"
    }
   ],
   "source": [
    "((5> 4) or (3 == 5))"
   ]
  },
  {
   "cell_type": "code",
   "execution_count": 18,
   "id": "eff8a4fc",
   "metadata": {},
   "outputs": [
    {
     "data": {
      "text/plain": [
       "False"
      ]
     },
     "execution_count": 18,
     "metadata": {},
     "output_type": "execute_result"
    }
   ],
   "source": [
    "(True and True) and (True == False)"
   ]
  },
  {
   "cell_type": "code",
   "execution_count": 19,
   "id": "eb6c028c",
   "metadata": {},
   "outputs": [
    {
     "data": {
      "text/plain": [
       "True"
      ]
     },
     "execution_count": 19,
     "metadata": {},
     "output_type": "execute_result"
    }
   ],
   "source": [
    "(not False) or (not True)"
   ]
  },
  {
   "cell_type": "raw",
   "id": "c1401116",
   "metadata": {},
   "source": [
    "Q5). What are the six comparison operators?\n",
    "\n",
    "Ans)  The six comparison operators are < > <= >= == != "
   ]
  },
  {
   "cell_type": "raw",
   "id": "4abe59f1",
   "metadata": {},
   "source": [
    "Q6). How do you tell the difference between the equal to and assignment operators?Describe a\n",
    "condition and when you would use one.\n",
    "\n",
    "Ans) The = is an assignment operator is used to assign the value on the right to the variable on the left. The == operator checks whether the two given operands are equal or not."
   ]
  },
  {
   "cell_type": "code",
   "execution_count": 24,
   "id": "44ad8890",
   "metadata": {},
   "outputs": [
    {
     "name": "stdout",
     "output_type": "stream",
     "text": [
      "ham\n",
      "spam\n",
      "spam\n"
     ]
    }
   ],
   "source": [
    "# Q7). Identify the three blocks in this code:\n",
    "spam = 0\n",
    "if spam == 10:\n",
    "    print('eggs')\n",
    "if spam > 5:\n",
    "    print('bacon')\n",
    "else:\n",
    "    print('ham')\n",
    "    print('spam')\n",
    "    print('spam')"
   ]
  },
  {
   "cell_type": "code",
   "execution_count": 28,
   "id": "2bab9eb0",
   "metadata": {},
   "outputs": [
    {
     "name": "stdout",
     "output_type": "stream",
     "text": [
      "Enter The Number : 2\n",
      "Howdy Greeting\n"
     ]
    }
   ],
   "source": [
    "# Q8). Write code that prints Hello if 1 is stored in spam, prints Howdy if 2 is stored in spam, and prints\n",
    "# Greetings! if anything else is stored in spam.\n",
    "\n",
    "# Ans) \n",
    "\n",
    "Spam = int(input(\"Enter The Number : \"))\n",
    "\n",
    "if(Spam == 1):\n",
    "    print('Spam Greeting')\n",
    "else:\n",
    "    print('Howdy Greeting')\n"
   ]
  },
  {
   "cell_type": "raw",
   "id": "fa1ff7d6",
   "metadata": {},
   "source": [
    "Q9).If your programme is stuck in an endless loop, what keys you’ll press?\n",
    "\n",
    "Ans) Ctrl + C "
   ]
  },
  {
   "cell_type": "raw",
   "id": "ca9467d9",
   "metadata": {},
   "source": [
    "Q10). How can you tell the difference between break and continue?\n",
    "\n",
    "Ans)  A break statement is used when we have to break the loop at the alphabet we want.\n",
    "      A Continue statement is used when we want to continue the loop at the alphabet we want.\n",
    "      \n",
    "\n",
    "\n"
   ]
  },
  {
   "cell_type": "code",
   "execution_count": 30,
   "id": "f4527f0f",
   "metadata": {},
   "outputs": [
    {
     "name": "stdout",
     "output_type": "stream",
     "text": [
      "s\n",
      "t\n",
      "r\n",
      "The end\n"
     ]
    }
   ],
   "source": [
    "# Use of break statement inside the loop\n",
    "\n",
    "for val in \"string\":\n",
    "    if val == \"i\":\n",
    "        break\n",
    "    print(val)\n",
    "\n",
    "print(\"The end\")\n"
   ]
  },
  {
   "cell_type": "code",
   "execution_count": 29,
   "id": "05ed67d3",
   "metadata": {},
   "outputs": [
    {
     "name": "stdout",
     "output_type": "stream",
     "text": [
      "s\n",
      "t\n",
      "r\n",
      "n\n",
      "g\n",
      "The end\n"
     ]
    }
   ],
   "source": [
    "# Program to show the use of continue statement inside loops\n",
    "\n",
    "for val in \"string\":\n",
    "    if val == \"i\":\n",
    "        continue\n",
    "    print(val)\n",
    "\n",
    "print(\"The end\")"
   ]
  },
  {
   "cell_type": "code",
   "execution_count": 31,
   "id": "d27c4c85",
   "metadata": {},
   "outputs": [
    {
     "name": "stdout",
     "output_type": "stream",
     "text": [
      "0 \n",
      "1 \n",
      "2 \n",
      "3 \n",
      "4 \n",
      "5 \n",
      "6 \n",
      "7 \n",
      "8 \n",
      "9 \n",
      "10 \n",
      "20 \n",
      "30 \n",
      "40 \n",
      "Sum of first 10 natural number : 1\n",
      "Sum of first 10 natural number : 3\n",
      "Sum of first 10 natural number : 6\n",
      "Sum of first 10 natural number : 10\n",
      "Sum of first 10 natural number : 15\n",
      "Sum of first 10 natural number : 21\n",
      "Sum of first 10 natural number : 28\n",
      "Sum of first 10 natural number : 36\n",
      "Sum of first 10 natural number : 45\n",
      "Sum of first 10 natural number : 55\n"
     ]
    }
   ],
   "source": [
    "# Q11). In a for loop, what is the difference between range(10), range(0, 10), and range(0, 10, 1)?\n",
    "\n",
    "\n",
    "for i in range(10):\n",
    "    print(i, end=\" \")\n",
    "    print()\n",
    "\n",
    "l = [10, 20, 30, 40]\n",
    "for i in range(len(l)):\n",
    "    print(l[i], end=\" \")\n",
    "    print()\n",
    "\n",
    "sum = 0\n",
    "for i in range(1, 11):\n",
    "    sum = sum + i\n",
    "    print(\"Sum of first 10 natural number :\", sum)\n"
   ]
  },
  {
   "cell_type": "code",
   "execution_count": 32,
   "id": "4b914912",
   "metadata": {},
   "outputs": [
    {
     "name": "stdout",
     "output_type": "stream",
     "text": [
      "1\n",
      "2\n",
      "3\n",
      "4\n",
      "5\n",
      "6\n",
      "7\n",
      "8\n",
      "9\n",
      "10\n"
     ]
    }
   ],
   "source": [
    "# Q12). Write a short program that prints the numbers 1 to 10 using a for loop. Then write an equivalent program that prints the numbers 1 to 10 using a while loop.\n",
    "\n",
    "i = 1\n",
    "while(i<=10):\n",
    "    print(i)\n",
    "    i += 1"
   ]
  },
  {
   "cell_type": "code",
   "execution_count": 33,
   "id": "e7da095d",
   "metadata": {},
   "outputs": [
    {
     "name": "stdout",
     "output_type": "stream",
     "text": [
      "1\n",
      "2\n",
      "3\n",
      "4\n",
      "5\n",
      "6\n",
      "7\n",
      "8\n",
      "9\n",
      "10\n"
     ]
    }
   ],
   "source": [
    "for i in range(1, 11):\n",
    "    print(i)"
   ]
  },
  {
   "cell_type": "raw",
   "id": "45b5cb2d",
   "metadata": {},
   "source": [
    "Q13). If you had a function named bacon() inside a module named spam, how would you call it after importing spam?\n",
    "\n",
    "Ans) This function can be called with spam. bacon()"
   ]
  }
 ],
 "metadata": {
  "kernelspec": {
   "display_name": "Python 3",
   "language": "python",
   "name": "python3"
  },
  "language_info": {
   "codemirror_mode": {
    "name": "ipython",
    "version": 3
   },
   "file_extension": ".py",
   "mimetype": "text/x-python",
   "name": "python",
   "nbconvert_exporter": "python",
   "pygments_lexer": "ipython3",
   "version": "3.8.8"
  }
 },
 "nbformat": 4,
 "nbformat_minor": 5
}
